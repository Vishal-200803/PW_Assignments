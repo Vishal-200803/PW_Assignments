{
 "cells": [
  {
   "cell_type": "markdown",
   "metadata": {},
   "source": [
    "Q1. Which keyword is used to create a function? Create a function to return a list of odd numbers in the\n",
    "range of 1 to 25.\n",
    "\n",
    "Ans : 'def' keyword is used to create a function in python. \n",
    "        eg: def Function_name(arguments)"
   ]
  },
  {
   "cell_type": "code",
   "execution_count": 1,
   "metadata": {},
   "outputs": [
    {
     "name": "stdout",
     "output_type": "stream",
     "text": [
      "[1, 3, 5, 7, 9, 11, 13, 15, 17, 19, 21, 23, 25]\n"
     ]
    }
   ],
   "source": [
    "def odd_num(n):\n",
    "    l =[]\n",
    "    for i in range(1,n+1):\n",
    "        if i % 2:\n",
    "            l.append(i)\n",
    "    return l\n",
    "\n",
    "print(odd_num(25))\n"
   ]
  },
  {
   "cell_type": "markdown",
   "metadata": {},
   "source": []
  },
  {
   "cell_type": "markdown",
   "metadata": {},
   "source": [
    "Q2 : Why *args and **kwargs is used in some functions? Create a function each for *args and **kwargs to demonstrate their use.4\n",
    "\n",
    "Answer:\n",
    "*args and **kwargs are used in Python functions to pass a variable number of arguments to the function.\n",
    "\n",
    "*args is used to pass a variable number of non-keyword arguments to a function. It allows us to pass any number of positional arguments to a function, which are then treated as a tuple inside the function. This is useful when we don't know how many arguments will be passed to the function in advance.\n",
    "\n",
    "**kwargs is used to pass a variable number of keyword arguments to a function. It allows us to pass any number of keyword arguments to a function, which are then treated as a dictionary inside the function. This is useful when we want to pass multiple named arguments to a function in a flexible way.\n",
    "\n",
    "Here's an example of a function that uses *args:\n",
    "\n",
    "```python\n",
    "def sum_values(*args):\n",
    "    total = 0\n",
    "    for arg in args:\n",
    "        total += arg\n",
    "    return total\n",
    "```\n",
    "\n",
    "In this example, the function sum_values takes a variable number of arguments using *args. Inside the function, we use a for loop to iterate over all the arguments passed to the function, and add them together to calculate the total sum. The sum is then returned by the function.\n",
    "\n",
    "\n",
    "Here's an example of a function that uses **kwargs:\n",
    "\n",
    "```python\n",
    "def print_values(**kwargs):\n",
    "    for key, value in kwargs.items():\n",
    "        print(key + \": \" + str(value))\n",
    "```\n",
    "In this example, the function print_values takes a variable number of keyword arguments using **kwargs. Inside the function, we use a for loop to iterate over all the key-value pairs passed to the function, and print them out in the format \"key: value\"."
   ]
  },
  {
   "cell_type": "markdown",
   "metadata": {},
   "source": []
  },
  {
   "cell_type": "markdown",
   "metadata": {},
   "source": [
    "Q3 : What is an iterator in python? Name the method used to initialise the iterator object and the method\n",
    "used for iteration. Use these methods to print the first five elements of the given list [2, 4, 6, 8, 10, 12, 14,\n",
    "16, 18, 20].\n",
    "\n",
    "Answer:\n",
    "\n",
    "an iterator is an object that allows us to iterate over a collection of elements such as a list, tuple, or dictionary. It provides a way to access elements of a collection one by one, without the need to load the entire collection into memory at once.\n",
    "\n",
    "To create an iterator object in Python, we use the iter() method. This method takes a collection as an argument and returns an iterator object. We can then use the next() method to iterate through the elements of the collection."
   ]
  },
  {
   "cell_type": "code",
   "execution_count": 2,
   "metadata": {},
   "outputs": [
    {
     "name": "stdout",
     "output_type": "stream",
     "text": [
      "2\n",
      "4\n",
      "6\n",
      "8\n",
      "10\n"
     ]
    }
   ],
   "source": [
    "l = [2, 4, 6, 8, 10, 12, 14,16, 18, 20]\n",
    "it = iter(l)\n",
    "for i in range(0,5):\n",
    "    print(next(it))"
   ]
  },
  {
   "cell_type": "markdown",
   "metadata": {},
   "source": []
  },
  {
   "cell_type": "markdown",
   "metadata": {},
   "source": [
    "Q4: What is a generator function in python? Why yield keyword is used? Give an example of a generator\n",
    "    function.\n",
    "\n",
    "Ans: \n",
    "A generator function is a special type of function that returns an iterator object. It allows us to generate a sequence   of values on-the-fly, without the need to create and store them in memory all at once. Generator functions use the yield keyword instead of return to generate the values.\n",
    "\n",
    "The yield keyword is used in generator functions to generate a value and pause the function's execution, returning the generated value to the caller. This allows the generator function to generate a sequence of values one at a time, without having to store all of them in memory at once.\n",
    "\n",
    "```python\n",
    "def even_numbers(n):\n",
    "    i = 0\n",
    "    while i < n:\n",
    "        yield i * 2\n",
    "        i += 1\n",
    "\n",
    "for even_number in even_numbers(10):\n",
    "    print(even_number)\n",
    "```\n",
    "we use a for loop to iterate over the generator function i.e.even_numbers() and generate all of the even numbers:"
   ]
  },
  {
   "cell_type": "markdown",
   "metadata": {},
   "source": []
  },
  {
   "cell_type": "markdown",
   "metadata": {},
   "source": [
    "Q5: Create a generator function for prime numbers less than 1000. Use the next() method to print the\n",
    "    first 20 prime numbers."
   ]
  },
  {
   "cell_type": "code",
   "execution_count": 5,
   "metadata": {},
   "outputs": [
    {
     "name": "stdout",
     "output_type": "stream",
     "text": [
      "2\n",
      "3\n",
      "5\n",
      "7\n",
      "11\n",
      "13\n",
      "17\n",
      "19\n",
      "23\n",
      "29\n",
      "31\n",
      "37\n",
      "41\n",
      "43\n",
      "47\n",
      "53\n",
      "59\n",
      "61\n",
      "67\n",
      "71\n"
     ]
    }
   ],
   "source": [
    "def prime(n):\n",
    "    cnt = 0\n",
    "    flag = 1\n",
    "    i = 2\n",
    "\n",
    "    while(i <= 1000 and cnt < n ):\n",
    "        if(i == 2):\n",
    "            flag = 1\n",
    "        else:\n",
    "            for j in range(2,i):\n",
    "                if( i % j == 0):\n",
    "                    flag = 0\n",
    "                    break\n",
    "                else:\n",
    "                    flag = 1\n",
    "        \n",
    "        if flag:\n",
    "            yield i\n",
    "            cnt += 1\n",
    "        i+=1\n",
    "\n",
    "it = prime(20)\n",
    "\n",
    "for i in range(0,20):\n",
    "    print(next(it))\n",
    "\n"
   ]
  },
  {
   "cell_type": "markdown",
   "metadata": {},
   "source": []
  },
  {
   "cell_type": "markdown",
   "metadata": {},
   "source": [
    "Q6. Write a python program to print the first 10 Fibonacci numbers using a while loop."
   ]
  },
  {
   "cell_type": "code",
   "execution_count": 8,
   "metadata": {},
   "outputs": [
    {
     "name": "stdout",
     "output_type": "stream",
     "text": [
      "0\n",
      "1\n",
      "1\n",
      "2\n",
      "3\n",
      "5\n",
      "8\n",
      "13\n",
      "21\n",
      "34\n"
     ]
    }
   ],
   "source": [
    "a = 1\n",
    "b = 0\n",
    "i = 0\n",
    "while(i<10):\n",
    "    print(b)\n",
    "    a = a + b\n",
    "    b = a - b  \n",
    "    i += 1 "
   ]
  },
  {
   "cell_type": "markdown",
   "metadata": {},
   "source": []
  },
  {
   "cell_type": "markdown",
   "metadata": {},
   "source": [
    "Q7: Write a List Comprehension to iterate through the given string: ‘pwskills’.\n",
    "Expected output: ['p', 'w', 's', 'k', 'i', 'l', 'l', 's']"
   ]
  },
  {
   "cell_type": "code",
   "execution_count": 9,
   "metadata": {},
   "outputs": [
    {
     "name": "stdout",
     "output_type": "stream",
     "text": [
      "['p', 'w', 's', 'k', 'i', 'l', 'l', 's']\n"
     ]
    }
   ],
   "source": [
    "s = 'pwskills'\n",
    "l = [i for i in s]\n",
    "print(l)"
   ]
  },
  {
   "cell_type": "markdown",
   "metadata": {},
   "source": []
  },
  {
   "cell_type": "markdown",
   "metadata": {},
   "source": [
    "Q8 : Write a python program to check whether a given number is Palindrome or not using a while loop."
   ]
  },
  {
   "cell_type": "code",
   "execution_count": 16,
   "metadata": {},
   "outputs": [
    {
     "name": "stdout",
     "output_type": "stream",
     "text": [
      "656\n",
      "The given number is palinrome\n"
     ]
    }
   ],
   "source": [
    "s = input()\n",
    "i = 0\n",
    "j = len(s) - 1\n",
    "flag = 1\n",
    "\n",
    "while(i<j):\n",
    "    if(s[i] != s[j]):\n",
    "        flag = 0\n",
    "        break\n",
    "\n",
    "    i += 1\n",
    "    j -= 1\n",
    "\n",
    "print(s)\n",
    "if flag:\n",
    "    print(\"The given number is palinrome\")\n",
    "else:\n",
    "    print(\"The given number is not a palindrome\")"
   ]
  },
  {
   "cell_type": "markdown",
   "metadata": {},
   "source": []
  },
  {
   "cell_type": "markdown",
   "metadata": {},
   "source": [
    "Q9. Write a code to print odd numbers from 1 to 100 using list comprehension.\n",
    "Note: Use a list comprehension to create a list from 1 to 100 and use another List comprehension to filter\n",
    "out odd numbers."
   ]
  },
  {
   "cell_type": "code",
   "execution_count": 20,
   "metadata": {},
   "outputs": [
    {
     "name": "stdout",
     "output_type": "stream",
     "text": [
      "[1, 3, 5, 7, 9, 11, 13, 15, 17, 19, 21, 23, 25, 27, 29, 31, 33, 35, 37, 39, 41, 43, 45, 47, 49, 51, 53, 55, 57, 59, 61, 63, 65, 67, 69, 71, 73, 75, 77, 79, 81, 83, 85, 87, 89, 91, 93, 95, 97, 99]\n"
     ]
    }
   ],
   "source": [
    "l1 = [i for i in range(1,101)]\n",
    "l2 = [i for i in l1 if( i % 2 != 0 )]\n",
    "print(l2)"
   ]
  }
 ],
 "metadata": {
  "kernelspec": {
   "display_name": "Python 3.10.10 64-bit",
   "language": "python",
   "name": "python3"
  },
  "language_info": {
   "codemirror_mode": {
    "name": "ipython",
    "version": 3
   },
   "file_extension": ".py",
   "mimetype": "text/x-python",
   "name": "python",
   "nbconvert_exporter": "python",
   "pygments_lexer": "ipython3",
   "version": "3.10.10"
  },
  "orig_nbformat": 4,
  "vscode": {
   "interpreter": {
    "hash": "63963b3f4c440940f0b94a3100916033a226cb4f45979123153792d60aa56d6a"
   }
  }
 },
 "nbformat": 4,
 "nbformat_minor": 2
}
