{
 "cells": [
  {
   "cell_type": "markdown",
   "metadata": {},
   "source": [
    "Q1. Explain with an example each when to use a for loop and a while loop.\n",
    "\n",
    "Sol:'for' loop is typically used when you want to iterate over a sequence of items a specific number of times whereas\n",
    "    'while' loop, on the other hand, is typically used when you want to repeat a block of code until a certain condition is met."
   ]
  },
  {
   "cell_type": "code",
   "execution_count": 9,
   "metadata": {},
   "outputs": [
    {
     "name": "stdout",
     "output_type": "stream",
     "text": [
      "iterating the list l\n",
      "1\n",
      "2\n",
      "3\n",
      "4\n",
      "5\n",
      "6\n",
      "\n",
      "Printing multples of 4 below 21 using while loop\n",
      "0\n",
      "4\n",
      "8\n",
      "12\n",
      "16\n",
      "20\n"
     ]
    }
   ],
   "source": [
    "print(\"iterating the list l\")\n",
    "l = [1,2,3,4,5,6]\n",
    "for i in l:\n",
    "    print(i)\n",
    "\n",
    "print(\"\\nPrinting multples of 4 below 21 using while loop\")\n",
    "i = 0\n",
    "while i < 21:\n",
    "    print(i)\n",
    "    i += 4"
   ]
  },
  {
   "cell_type": "markdown",
   "metadata": {},
   "source": []
  },
  {
   "cell_type": "markdown",
   "metadata": {},
   "source": [
    "Q2 : Write a python program to print the sum and product of the first 10 natural numbers using for\n",
    "and while loop."
   ]
  },
  {
   "cell_type": "code",
   "execution_count": 25,
   "metadata": {},
   "outputs": [
    {
     "name": "stdout",
     "output_type": "stream",
     "text": [
      "The sum and product of first 10 natural numbers using for loop is 55 and 3628800\n",
      "The sum and product of first 10 natural numbers using while loop is 55 and 3628800\n"
     ]
    }
   ],
   "source": [
    "sum = 0\n",
    "prod = 1\n",
    "for i in range(1,11):\n",
    "    sum += i\n",
    "    prod *= i\n",
    "print(\"The sum and product of first 10 natural numbers using for loop is {} and {}\".format(sum,prod))\n",
    "\n",
    "sum = 0\n",
    "prod = 1\n",
    "i = 1\n",
    "while(i<=10):\n",
    "    sum += i\n",
    "    prod *= i\n",
    "    i += 1\n",
    "print(\"The sum and product of first 10 natural numbers using while loop is {} and {}\".format(sum,prod))\n",
    "\n"
   ]
  },
  {
   "cell_type": "markdown",
   "metadata": {},
   "source": []
  },
  {
   "cell_type": "markdown",
   "metadata": {},
   "source": [
    "Q3 : Create a python program to compute the electricity bill for a household.\n",
    "The per-unit charges in rupees are as follows: For the first 100 units, the user will be charged Rs. 4.5 per\n",
    "unit, for the next 100 units, the user will be charged Rs. 6 per unit, and for the next 100 units, the user will\n",
    "be charged Rs. 10 per unit, After 300 units and above the user will be charged Rs. 20 per unit.\n",
    "You are required to take the units of electricity consumed in a month from the user as input.\n",
    "Your program must pass this test case: when the unit of electricity consumed by the user in a month is\n",
    "310, the total electricity bill should be 2250."
   ]
  },
  {
   "cell_type": "code",
   "execution_count": 4,
   "metadata": {},
   "outputs": [
    {
     "name": "stdout",
     "output_type": "stream",
     "text": [
      "2250\n"
     ]
    }
   ],
   "source": [
    "n = int(input(\"Enter units\"))\n",
    " \n",
    "bill = 0\n",
    "\n",
    "for i in range(1,n+1):\n",
    "    if i <= 100:\n",
    "        bill += 4.5\n",
    "    elif i <=200:\n",
    "        bill += 6\n",
    "    elif i<= 300:\n",
    "        bill += 10\n",
    "    else:\n",
    "        bill+=20\n",
    "\n",
    "print(int(bill))"
   ]
  },
  {
   "cell_type": "markdown",
   "metadata": {},
   "source": []
  },
  {
   "cell_type": "markdown",
   "metadata": {},
   "source": [
    "Q4. Create a list of numbers from 1 to 100. Use for loop and while loop to calculate the cube of each\n",
    "number and if the cube of that number is divisible by 4 or 5 then append that number in a list and print\n",
    "that list."
   ]
  },
  {
   "cell_type": "code",
   "execution_count": 6,
   "metadata": {},
   "outputs": [
    {
     "name": "stdout",
     "output_type": "stream",
     "text": [
      "[2, 4, 6, 8, 10, 12, 14, 16, 18, 20, 22, 24, 26, 28, 30, 32, 34, 36, 38, 40, 42, 44, 46, 48, 50, 52, 54, 56, 58, 60, 62, 64, 66, 68, 70, 72, 74, 76, 78, 80, 82, 84, 86, 88, 90, 92, 94, 96, 98, 100]\n"
     ]
    }
   ],
   "source": [
    "import math\n",
    "l = []\n",
    "\n",
    "for i in range(1,101):\n",
    "    if((math.pow(i,3) % 4 ==0) or (math.pow(i,3) % 4 ==0)):\n",
    "        l.append(i)\n",
    "\n",
    "print(l)"
   ]
  },
  {
   "cell_type": "markdown",
   "metadata": {},
   "source": []
  },
  {
   "cell_type": "markdown",
   "metadata": {},
   "source": [
    "Q5 Write a program to filter count vowels in the below-given string.\n",
    "    string = \"I want to become a data scientist\""
   ]
  },
  {
   "cell_type": "code",
   "execution_count": 8,
   "metadata": {},
   "outputs": [
    {
     "name": "stdout",
     "output_type": "stream",
     "text": [
      "12\n"
     ]
    }
   ],
   "source": [
    "s = \"I want to become a data scientist\"\n",
    "vow =[]\n",
    "count = 0\n",
    "V = ['a','e','i','o','u','A','E','I','O','U']\n",
    "for i in s:\n",
    "    if i in V:\n",
    "        vow.append(i)\n",
    "        count += 1\n",
    "\n",
    "print(count)\n",
    "#print(vow)"
   ]
  }
 ],
 "metadata": {
  "kernelspec": {
   "display_name": "Python 3.10.10 64-bit",
   "language": "python",
   "name": "python3"
  },
  "language_info": {
   "codemirror_mode": {
    "name": "ipython",
    "version": 3
   },
   "file_extension": ".py",
   "mimetype": "text/x-python",
   "name": "python",
   "nbconvert_exporter": "python",
   "pygments_lexer": "ipython3",
   "version": "3.10.10"
  },
  "orig_nbformat": 4,
  "vscode": {
   "interpreter": {
    "hash": "63963b3f4c440940f0b94a3100916033a226cb4f45979123153792d60aa56d6a"
   }
  }
 },
 "nbformat": 4,
 "nbformat_minor": 2
}
