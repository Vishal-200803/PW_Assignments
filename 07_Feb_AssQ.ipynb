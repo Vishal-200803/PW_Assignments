{
 "cells": [
  {
   "cell_type": "markdown",
   "metadata": {},
   "source": [
    "Q1. You are writing code for a company. The requirement of the company is that you create a python function that will check whether the password entered by the user is correct or not. The function should take the password as input and return the string \"Valid Password\" if the entered password follows the below-given password guidelines else it should return \"Invalid Password\".\n",
    "\n",
    "Note:\n",
    "\n",
    "The Password should contain at least two uppercase letters and at least two lowercase letters.\n",
    "The Password should contain at least a number and three special characters.\n",
    "The length of the password should be 10 characters long"
   ]
  },
  {
   "cell_type": "code",
   "execution_count": 5,
   "metadata": {},
   "outputs": [
    {
     "name": "stdout",
     "output_type": "stream",
     "text": [
      "Invalid Password\n"
     ]
    }
   ],
   "source": [
    "def pass_verify(check):\n",
    "    upper_case = lower_case = numbers = special_char = ''\n",
    "    for i in password:\n",
    "        if 64<ord(i)<91:upper_case += i\n",
    "        elif 96<ord(i)<123:lower_case += i\n",
    "        elif 48<ord(i)<58:numbers += i\n",
    "        elif 32<ord(i)<48 or 58<ord(i)<65 or 91<ord(i)<97 or ord(i)>122:special_char +=i\n",
    "        else:pass\n",
    "    if len(upper_case) >= 2 and len(lower_case) >= 2 and len(numbers) >= 1 and len(special_char) >=3 and len(password) >= 10:\n",
    "        print('Valid Password')\n",
    "    else:\n",
    "        print('Invalid Password')\n",
    "\n",
    "password = input(\"Create your new password : \")\n",
    "pass_verify(password)\n"
   ]
  },
  {
   "cell_type": "markdown",
   "metadata": {},
   "source": []
  },
  {
   "cell_type": "markdown",
   "metadata": {},
   "source": []
  },
  {
   "cell_type": "markdown",
   "metadata": {},
   "source": [
    "Q2. Solve the below-given questions using at least one of the following:\n",
    "\n",
    "Lambda function\n",
    "\n",
    "Filter function\n",
    "\n",
    "Map function\n",
    "\n",
    "List Comprehension\n",
    "\n",
    "Check if the string starts with a particular letter.\n",
    "\n",
    "Check if the string is numeric.\n",
    "\n",
    "Sort a list of tuples having fruit names and their quantity. [ (\"mango\",99), (\"orange\",80), (\"grapes\", 1000)]\n",
    "\n",
    "Find the squares of numbers from 1 to 10.\n",
    "\n",
    "Find the cube root of numbers from 1 to 10.\n",
    "\n",
    "Check if a given number is even.\n",
    "\n",
    "Filter odd numbers from the given list. [1,2,3,4,5,6,7,8,9,10]\n",
    "\n",
    "Sort a list of integers into positive and negative integers lists. [1,2,3,4,5,6,-1,-2,-3,-4,-5,0]"
   ]
  },
  {
   "cell_type": "code",
   "execution_count": 3,
   "metadata": {},
   "outputs": [
    {
     "name": "stdout",
     "output_type": "stream",
     "text": [
      "Entered String is :  asdasdasd\n"
     ]
    },
    {
     "data": {
      "text/plain": [
       "True"
      ]
     },
     "execution_count": 3,
     "metadata": {},
     "output_type": "execute_result"
    }
   ],
   "source": [
    "# Check if the string starts with a particular letter.By using list comprehension\n",
    "string = input(\"Enter a word start form 'a' : \")\n",
    "# string = 'gthuid'\n",
    "obj = [True if string.startswith('a') else False for i in string]\n",
    "print(\"Entered String is : \",string)\n",
    "obj[0]"
   ]
  },
  {
   "cell_type": "code",
   "execution_count": 4,
   "metadata": {},
   "outputs": [
    {
     "name": "stdout",
     "output_type": "stream",
     "text": [
      "Entered key is :  563215\n"
     ]
    },
    {
     "data": {
      "text/plain": [
       "True"
      ]
     },
     "execution_count": 4,
     "metadata": {},
     "output_type": "execute_result"
    }
   ],
   "source": [
    "# Check if the string is numeric. By using list comprehension\n",
    "string = input(\"Enter a numeric key : \")\n",
    "# string = '34'\n",
    "obj = [True if string.isnumeric() else False for i in string]\n",
    "print(\"Entered key is : \",string)\n",
    "obj[0]"
   ]
  },
  {
   "cell_type": "code",
   "execution_count": 5,
   "metadata": {},
   "outputs": [
    {
     "data": {
      "text/plain": [
       "True"
      ]
     },
     "execution_count": 5,
     "metadata": {},
     "output_type": "execute_result"
    }
   ],
   "source": [
    "# Check if the string is numeric.By using lambda function\n",
    "# string = input(\"Enter a numeric key : \")\n",
    "string = '456'\n",
    "obj = lambda num : num.isnumeric()\n",
    "obj(string)"
   ]
  },
  {
   "cell_type": "code",
   "execution_count": 6,
   "metadata": {},
   "outputs": [
    {
     "name": "stdout",
     "output_type": "stream",
     "text": [
      "[('grapes', 1000), ('mango', 99), ('orange', 80)]\n"
     ]
    }
   ],
   "source": [
    "# .Sort a list of tuples having fruit names and their quantity. [ (\"mango\",99), (\"orange\",80), (\"grapes\", 1000)]\n",
    "List = [ (\"mango\",99), (\"orange\",80), (\"grapes\", 1000)]\n",
    "print(sorted(List))\n",
    "# print(sorted(List, reverse = True))"
   ]
  },
  {
   "cell_type": "code",
   "execution_count": 8,
   "metadata": {},
   "outputs": [
    {
     "data": {
      "text/plain": [
       "[1, 4, 9, 16, 25, 36, 49, 64, 81, 100]"
      ]
     },
     "execution_count": 8,
     "metadata": {},
     "output_type": "execute_result"
    }
   ],
   "source": [
    "# .Find the squares of numbers from 1 to 10.\n",
    "square = [i*i for i in range(1,11)]\n",
    "list(square)"
   ]
  },
  {
   "cell_type": "code",
   "execution_count": 7,
   "metadata": {},
   "outputs": [
    {
     "data": {
      "text/plain": [
       "[1, 8, 27, 64, 125, 216, 343, 512, 729, 1000]"
      ]
     },
     "execution_count": 7,
     "metadata": {},
     "output_type": "execute_result"
    }
   ],
   "source": [
    "# Find the cube root of numbers from 1 to 10.\n",
    "cube = [i**3 for i in range(1,11)]\n",
    "list(cube)"
   ]
  },
  {
   "cell_type": "code",
   "execution_count": 9,
   "metadata": {},
   "outputs": [
    {
     "data": {
      "text/plain": [
       "False"
      ]
     },
     "execution_count": 9,
     "metadata": {},
     "output_type": "execute_result"
    }
   ],
   "source": [
    "# Check if a given number is even.\n",
    "num = int(input('Enter a number : '))\n",
    "# num = 6667\n",
    "even = lambda x : x%2 == 0 \n",
    "even(num)"
   ]
  },
  {
   "cell_type": "code",
   "execution_count": 10,
   "metadata": {},
   "outputs": [
    {
     "name": "stdout",
     "output_type": "stream",
     "text": [
      "[1, 3, 5, 7, 9]\n"
     ]
    }
   ],
   "source": [
    "# Filter odd numbers from the given list. By using filter() function\n",
    "List = [1,2,3,4,5,6,7,8,9,10]\n",
    "odd_list = []\n",
    "def odd(a):\n",
    "    if a%2!=0:\n",
    "        odd_list.append(a)\n",
    "filter(odd,List)\n",
    "\n",
    "list(filter(odd,List))\n",
    "print(odd_list)"
   ]
  },
  {
   "cell_type": "code",
   "execution_count": 11,
   "metadata": {},
   "outputs": [
    {
     "data": {
      "text/plain": [
       "[1, 3, 5, 7, 9]"
      ]
     },
     "execution_count": 11,
     "metadata": {},
     "output_type": "execute_result"
    }
   ],
   "source": [
    "# Filter odd numbers from the given list. By using lambda function\n",
    "List = [1,2,3,4,5,6,7,8,9,10]\n",
    "List = [i for i in List if i%2 != 0]\n",
    "List"
   ]
  },
  {
   "cell_type": "code",
   "execution_count": 12,
   "metadata": {},
   "outputs": [
    {
     "name": "stdout",
     "output_type": "stream",
     "text": [
      "Positive Integers List : [0, 1, 2, 3, 4, 5, 6]\n",
      "Negative Integers List : [-5, -4, -3, -2, -1]\n"
     ]
    }
   ],
   "source": [
    "# Sort a list of integers into positive and negative integers lists. [1,2,3,4,5,6,-1,-2,-3,-4,-5,0]\n",
    "List = [1,2,3,4,5,6,-1,-2,-3,-4,-5,0]\n",
    "List1 = [str(i) for i in List]\n",
    "sorted_list = sorted(List1, key=lambda x: int(x[0:]))\n",
    "List2 = [int(i) for i in sorted_list]\n",
    "print(f'Positive Integers List : {[i for i in List2 if i>=0]}')\n",
    "# print(f'Negative Integers List : {[i for i in List if i<0]}')\n",
    "print(f'Negative Integers List : {[i for i in List if i<0][::-1]}')"
   ]
  }
 ],
 "metadata": {
  "kernelspec": {
   "display_name": "Python 3.10.10 64-bit",
   "language": "python",
   "name": "python3"
  },
  "language_info": {
   "codemirror_mode": {
    "name": "ipython",
    "version": 3
   },
   "file_extension": ".py",
   "mimetype": "text/x-python",
   "name": "python",
   "nbconvert_exporter": "python",
   "pygments_lexer": "ipython3",
   "version": "3.10.10"
  },
  "orig_nbformat": 4,
  "vscode": {
   "interpreter": {
    "hash": "63963b3f4c440940f0b94a3100916033a226cb4f45979123153792d60aa56d6a"
   }
  }
 },
 "nbformat": 4,
 "nbformat_minor": 2
}
